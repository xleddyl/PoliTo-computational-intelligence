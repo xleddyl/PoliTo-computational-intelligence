{
 "cells": [
  {
   "cell_type": "markdown",
   "metadata": {},
   "source": [
    "# Lab 1: Set Covering\n",
    "\n",
    "## Task\n",
    "\n",
    "Given a number $N$ and some lists of integers $P = (L_0, L_1, L_2, ..., L_n)$,\n",
    "determine, if possible, $S = (L_{s_0}, L_{s_1}, L_{s_2}, ..., L_{s_n})$\n",
    "such that each number between $0$ and $N-1$ appears in at least one list\n",
    "\n",
    "$$\\forall n \\in [0, N-1] \\ \\exists i : n \\in L_{s_i}$$\n",
    "\n",
    "and that the total numbers of elements in all $L_{s_i}$ is minimum."
   ]
  },
  {
   "cell_type": "code",
   "execution_count": 3,
   "metadata": {},
   "outputs": [],
   "source": [
    "import random\n",
    "import warnings\n",
    "import logging\n",
    "from typing import Callable\n",
    "from gx_utils import *\n",
    "\n",
    "warnings.filterwarnings('ignore')"
   ]
  },
  {
   "cell_type": "code",
   "execution_count": 4,
   "metadata": {},
   "outputs": [],
   "source": [
    "class State:\n",
    "    def __init__(self, data: set):\n",
    "        self._data = set(data)\n",
    "\n",
    "    def __hash__(self):\n",
    "        return hash(frozenset(self._data))\n",
    "\n",
    "    def __eq__(self, other):\n",
    "        return self._data == other._data\n",
    "\n",
    "    def __sub__(self, other):\n",
    "        return State(self._data - other._data)\n",
    "\n",
    "    def __or__(self, other):\n",
    "        return State(self._data | other._data)\n",
    "\n",
    "    def __and__(self, other):\n",
    "        return State(self._data & other._data)\n",
    "\n",
    "    def __lt__(self, other):\n",
    "        return self._data < other._data\n",
    "\n",
    "    def __len__(self):\n",
    "        return len(self._data)\n",
    "\n",
    "    @property\n",
    "    def data(self):\n",
    "        return self._data\n",
    "\n",
    "    def copy_data(self):\n",
    "        return self._data.copy()"
   ]
  },
  {
   "cell_type": "code",
   "execution_count": 5,
   "metadata": {},
   "outputs": [],
   "source": [
    "def problem(N, seed=None):\n",
    "    random.seed(seed)\n",
    "    return [\n",
    "        list(set(random.randint(0, N - 1)\n",
    "             for n in range(random.randint(N // 5, N // 2))))\n",
    "        for n in range(random.randint(N, N * 5))\n",
    "    ]"
   ]
  },
  {
   "cell_type": "code",
   "execution_count": 6,
   "metadata": {},
   "outputs": [],
   "source": [
    "def search(\n",
    "    initial_state: State,\n",
    "    goal_test: Callable,\n",
    "    parent_state: dict,\n",
    "    state_cost: dict,\n",
    "    priority_function: Callable,\n",
    "    unit_cost: Callable,\n",
    "):\n",
    "    frontier = PriorityQueue()\n",
    "    parent_state.clear()\n",
    "    state_cost.clear()\n",
    "\n",
    "    state = initial_state\n",
    "    parent_state[state] = None\n",
    "    state_cost[state] = 0\n",
    "\n",
    "    while state is not None and not goal_test(state):\n",
    "        for action in possible_actions(state):\n",
    "            new_state = result(state, action)\n",
    "            cost = unit_cost(state, action)\n",
    "            if new_state not in state_cost and new_state not in frontier:\n",
    "                parent_state[new_state] = state\n",
    "                state_cost[new_state] = state_cost[state] + cost\n",
    "                frontier.push(new_state, p=priority_function(new_state))\n",
    "                logging.debug(f\"Added new node to frontier (cost={state_cost[new_state]})\")\n",
    "            elif new_state in frontier and state_cost[new_state] > state_cost[state] + cost:\n",
    "                old_cost = state_cost[new_state]\n",
    "                parent_state[new_state] = state\n",
    "                state_cost[new_state] = state_cost[state] + cost\n",
    "                logging.debug(f\"Updated node cost in frontier: {old_cost} -> {state_cost[new_state]}\")\n",
    "        if frontier:\n",
    "            state = frontier.pop()\n",
    "        else:\n",
    "            state = None\n",
    "\n",
    "    path = list()\n",
    "    s = state\n",
    "    while s:\n",
    "        path.append(s.copy_data())\n",
    "        s = parent_state[s]\n",
    "\n",
    "    logging.info(f\"Found a solution in {len(path):,} steps; visited {len(state_cost):,} states\")\n",
    "    return list(reversed(path))"
   ]
  },
  {
   "cell_type": "code",
   "execution_count": 7,
   "metadata": {},
   "outputs": [],
   "source": [
    "def goal_test(state):\n",
    "    # check if state is equal to goal (e.g. {1, 2, 3} == {0, 1, 2, 3, 4} -> False)\n",
    "    return (state == GOAL)\n",
    "\n",
    "\n",
    "def result(state, action):\n",
    "    # append action to the current state\n",
    "    return (state | action)\n",
    "\n",
    "\n",
    "def possible_actions(state):\n",
    "    # pick an action from the set of moves only if it satisfies scheck_opt\n",
    "    # (e.g. not ({1, 2, 3} <= {0, 1, 2, 3, 4)} -> False)\n",
    "    return (State(set(m)) for m in MOVES if check_opt(state, m))\n",
    "\n",
    "\n",
    "def h(state):\n",
    "    # heuristic based on difference in length\n",
    "    return (N - len(state))\n",
    "\n",
    "\n",
    "def check_opt(state, m):\n",
    "    # check if m is not a subset of state\n",
    "    return not (list(m) <= list(state._data))\n",
    "\n",
    "\n",
    "def cost(state, action):\n",
    "    # cost based on the number of duplicate items introduced by action\n",
    "    # return len(state & action) (non unitary cost implies more execution time)\n",
    "    return 1"
   ]
  },
  {
   "cell_type": "code",
   "execution_count": 8,
   "metadata": {},
   "outputs": [
    {
     "name": "stderr",
     "output_type": "stream",
     "text": [
      "INFO:root:#### N = 5 ####\n",
      "INFO:root:Found a solution in 3 steps; visited 19 states\n",
      "INFO:root:#### N = 10 ####\n",
      "INFO:root:Found a solution in 3 steps; visited 63 states\n",
      "INFO:root:#### N = 20 ####\n",
      "INFO:root:Found a solution in 4 steps; visited 73 states\n",
      "INFO:root:#### N = 100 ####\n",
      "INFO:root:Found a solution in 5 steps; visited 1,573 states\n",
      "INFO:root:#### N = 500 ####\n",
      "INFO:root:Found a solution in 7 steps; visited 10,758 states\n",
      "INFO:root:#### N = 1000 ####\n",
      "INFO:root:Found a solution in 9 steps; visited 18,961 states\n"
     ]
    }
   ],
   "source": [
    "logging.getLogger().setLevel(logging.INFO)\n",
    "for N in [\n",
    "    5,\n",
    "    10,\n",
    "    20,\n",
    "    100,\n",
    "    500,\n",
    "    1000\n",
    "]:\n",
    "    logging.info(f\"#### N = {N} ####\")\n",
    "    parent_state = dict()\n",
    "    state_cost = dict()\n",
    "    MOVES = problem(N, seed=42)\n",
    "    GOAL = State(set(range(N)))\n",
    "    INITIAL_STATE = State(set())\n",
    "    final = search(\n",
    "        INITIAL_STATE,\n",
    "        goal_test=goal_test,\n",
    "        parent_state=parent_state,\n",
    "        state_cost=state_cost,\n",
    "        priority_function=lambda s: state_cost[s] + h(s),\n",
    "        unit_cost=lambda state, action: cost(state, action),\n",
    "    )"
   ]
  }
 ],
 "metadata": {
  "kernelspec": {
   "display_name": "Python 3.10.8 64-bit",
   "language": "python",
   "name": "python3"
  },
  "language_info": {
   "codemirror_mode": {
    "name": "ipython",
    "version": 3
   },
   "file_extension": ".py",
   "mimetype": "text/x-python",
   "name": "python",
   "nbconvert_exporter": "python",
   "pygments_lexer": "ipython3",
   "version": "3.10.8"
  },
  "orig_nbformat": 4,
  "vscode": {
   "interpreter": {
    "hash": "97cc609b13305c559618ec78a438abc56230b9381f827f22d070313b9a1f3777"
   }
  }
 },
 "nbformat": 4,
 "nbformat_minor": 2
}
