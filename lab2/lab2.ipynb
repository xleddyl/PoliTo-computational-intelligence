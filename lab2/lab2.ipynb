{
 "cells": [
  {
   "cell_type": "code",
   "execution_count": 1,
   "metadata": {},
   "outputs": [],
   "source": [
    "import random\n",
    "import logging\n",
    "from collections import namedtuple"
   ]
  },
  {
   "cell_type": "code",
   "execution_count": 3,
   "metadata": {},
   "outputs": [],
   "source": [
    "def problem(N, seed=None):\n",
    "    random.seed(seed)\n",
    "    return [\n",
    "        list(set(random.randint(0, N - 1)\n",
    "             for n in range(random.randint(N // 5, N // 2))))\n",
    "        for n in range(random.randint(N, N * 5))\n",
    "    ]"
   ]
  },
  {
   "cell_type": "code",
   "execution_count": 14,
   "metadata": {},
   "outputs": [],
   "source": [
    "def tournament(population, tournament_size=2):\n",
    "   return max(random.choices(population, k=tournament_size), key=lambda i: i.fitness)\n",
    "\n",
    "def w(genome):\n",
    "   return sum(i for i in genome)\n",
    "\n",
    "def covering(genome):\n",
    "   s = set()\n",
    "   for i in genome:\n",
    "      s = s.union(set(i))\n",
    "   return len(s)\n",
    "\n",
    "def mutation(g, len):\n",
    "   point = random.randint(0, len - 1)\n",
    "   return g[:point] + (1 - g[point],) + g[point + 1:]\n",
    "\n",
    "def cross_over(g1, g2, len):\n",
    "   cut = random.randint(0, len)\n",
    "   return g1[:cut] + g2[cut:]\n",
    "\n",
    "def create_population(prob_size, pop_size):\n",
    "   population = list()\n",
    "   for i in [tuple([0 for _ in range(prob_size)]) for _ in range(pop_size)]:\n",
    "      population.append(Individual(i, w(i)))\n",
    "   return population"
   ]
  },
  {
   "cell_type": "code",
   "execution_count": 17,
   "metadata": {},
   "outputs": [],
   "source": [
    "def genetic(N, P, tournament_size, pop_size):\n",
    "   prob_size = len(P)\n",
    "   population = create_population(prob_size, pop_size)\n",
    "\n",
    "   for g in range(GEN):\n",
    "      offspring = list()\n",
    "      for i in range(OFFSPRING_SIZE):\n",
    "         if random.random() < 0.5:\n",
    "            p = tournament(population, tournament_size=tournament_size)\n",
    "            o = mutation(p.genome, prob_size)\n",
    "         else:\n",
    "            p1 = tournament(population, tournament_size=tournament_size)\n",
    "            p2 = tournament(population, tournament_size=tournament_size)\n",
    "            o = cross_over(p1.genome, p2.genome, prob_size)\n",
    "      offspring.append(Individual(o, w(o)))\n",
    "      population += offspring\n",
    "      population = sorted(population, key=lambda i: i.fitness, reverse=True)[:pop_size]\n",
    "\n",
    "   if population[0].fitness[0] == N:\n",
    "      logging.info(f\"w={-population[0].fitness[1]} (bloat={int((-population[0].fitness[1]-N)*100/N)}%)\")"
   ]
  },
  {
   "cell_type": "code",
   "execution_count": 18,
   "metadata": {},
   "outputs": [
    {
     "name": "stderr",
     "output_type": "stream",
     "text": [
      "INFO:root:#### N = 5 ####\n"
     ]
    },
    {
     "name": "stdout",
     "output_type": "stream",
     "text": [
      "None\n"
     ]
    },
    {
     "ename": "TypeError",
     "evalue": "object of type 'NoneType' has no len()",
     "output_type": "error",
     "traceback": [
      "\u001b[0;31m---------------------------------------------------------------------------\u001b[0m",
      "\u001b[0;31mTypeError\u001b[0m                                 Traceback (most recent call last)",
      "\u001b[1;32m/home/dodo/Universita/5 - Quinto anno/Computational intelligence/computational-intelligence/lab2/lab2.ipynb Cell 5\u001b[0m in \u001b[0;36m<cell line: 8>\u001b[0;34m()\u001b[0m\n\u001b[1;32m      <a href='vscode-notebook-cell://wsl%2Bubuntu/home/dodo/Universita/5%20-%20Quinto%20anno/Computational%20intelligence/computational-intelligence/lab2/lab2.ipynb#W6sdnNjb2RlLXJlbW90ZQ%3D%3D?line=7'>8</a>\u001b[0m \u001b[39mfor\u001b[39;00m N \u001b[39min\u001b[39;00m [\n\u001b[1;32m      <a href='vscode-notebook-cell://wsl%2Bubuntu/home/dodo/Universita/5%20-%20Quinto%20anno/Computational%20intelligence/computational-intelligence/lab2/lab2.ipynb#W6sdnNjb2RlLXJlbW90ZQ%3D%3D?line=8'>9</a>\u001b[0m    \u001b[39m5\u001b[39m,\n\u001b[1;32m     <a href='vscode-notebook-cell://wsl%2Bubuntu/home/dodo/Universita/5%20-%20Quinto%20anno/Computational%20intelligence/computational-intelligence/lab2/lab2.ipynb#W6sdnNjb2RlLXJlbW90ZQ%3D%3D?line=9'>10</a>\u001b[0m    \u001b[39m10\u001b[39m,\n\u001b[0;32m   (...)\u001b[0m\n\u001b[1;32m     <a href='vscode-notebook-cell://wsl%2Bubuntu/home/dodo/Universita/5%20-%20Quinto%20anno/Computational%20intelligence/computational-intelligence/lab2/lab2.ipynb#W6sdnNjb2RlLXJlbW90ZQ%3D%3D?line=13'>14</a>\u001b[0m    \u001b[39m1000\u001b[39m\n\u001b[1;32m     <a href='vscode-notebook-cell://wsl%2Bubuntu/home/dodo/Universita/5%20-%20Quinto%20anno/Computational%20intelligence/computational-intelligence/lab2/lab2.ipynb#W6sdnNjb2RlLXJlbW90ZQ%3D%3D?line=14'>15</a>\u001b[0m ]:\n\u001b[1;32m     <a href='vscode-notebook-cell://wsl%2Bubuntu/home/dodo/Universita/5%20-%20Quinto%20anno/Computational%20intelligence/computational-intelligence/lab2/lab2.ipynb#W6sdnNjb2RlLXJlbW90ZQ%3D%3D?line=15'>16</a>\u001b[0m    logging\u001b[39m.\u001b[39minfo(\u001b[39mf\u001b[39m\u001b[39m\"\u001b[39m\u001b[39m#### N = \u001b[39m\u001b[39m{\u001b[39;00mN\u001b[39m}\u001b[39;00m\u001b[39m ####\u001b[39m\u001b[39m\"\u001b[39m)\n\u001b[0;32m---> <a href='vscode-notebook-cell://wsl%2Bubuntu/home/dodo/Universita/5%20-%20Quinto%20anno/Computational%20intelligence/computational-intelligence/lab2/lab2.ipynb#W6sdnNjb2RlLXJlbW90ZQ%3D%3D?line=16'>17</a>\u001b[0m    genetic(N, problem(N, \u001b[39m42\u001b[39;49m), \u001b[39m2\u001b[39;49m, pop_size)\n",
      "\u001b[1;32m/home/dodo/Universita/5 - Quinto anno/Computational intelligence/computational-intelligence/lab2/lab2.ipynb Cell 5\u001b[0m in \u001b[0;36mgenetic\u001b[0;34m(N, P, tournament_size, pop_size)\u001b[0m\n\u001b[1;32m      <a href='vscode-notebook-cell://wsl%2Bubuntu/home/dodo/Universita/5%20-%20Quinto%20anno/Computational%20intelligence/computational-intelligence/lab2/lab2.ipynb#W6sdnNjb2RlLXJlbW90ZQ%3D%3D?line=7'>8</a>\u001b[0m \u001b[39mif\u001b[39;00m random\u001b[39m.\u001b[39mrandom() \u001b[39m<\u001b[39m \u001b[39m0.5\u001b[39m:\n\u001b[1;32m      <a href='vscode-notebook-cell://wsl%2Bubuntu/home/dodo/Universita/5%20-%20Quinto%20anno/Computational%20intelligence/computational-intelligence/lab2/lab2.ipynb#W6sdnNjb2RlLXJlbW90ZQ%3D%3D?line=8'>9</a>\u001b[0m    \u001b[39mprint\u001b[39m(population)\n\u001b[0;32m---> <a href='vscode-notebook-cell://wsl%2Bubuntu/home/dodo/Universita/5%20-%20Quinto%20anno/Computational%20intelligence/computational-intelligence/lab2/lab2.ipynb#W6sdnNjb2RlLXJlbW90ZQ%3D%3D?line=9'>10</a>\u001b[0m    p \u001b[39m=\u001b[39m tournament(population, tournament_size\u001b[39m=\u001b[39;49mtournament_size)\n\u001b[1;32m     <a href='vscode-notebook-cell://wsl%2Bubuntu/home/dodo/Universita/5%20-%20Quinto%20anno/Computational%20intelligence/computational-intelligence/lab2/lab2.ipynb#W6sdnNjb2RlLXJlbW90ZQ%3D%3D?line=10'>11</a>\u001b[0m    o \u001b[39m=\u001b[39m mutation(p\u001b[39m.\u001b[39mgenome, prob_size)\n\u001b[1;32m     <a href='vscode-notebook-cell://wsl%2Bubuntu/home/dodo/Universita/5%20-%20Quinto%20anno/Computational%20intelligence/computational-intelligence/lab2/lab2.ipynb#W6sdnNjb2RlLXJlbW90ZQ%3D%3D?line=11'>12</a>\u001b[0m \u001b[39melse\u001b[39;00m:\n",
      "\u001b[1;32m/home/dodo/Universita/5 - Quinto anno/Computational intelligence/computational-intelligence/lab2/lab2.ipynb Cell 5\u001b[0m in \u001b[0;36mtournament\u001b[0;34m(population, tournament_size)\u001b[0m\n\u001b[1;32m      <a href='vscode-notebook-cell://wsl%2Bubuntu/home/dodo/Universita/5%20-%20Quinto%20anno/Computational%20intelligence/computational-intelligence/lab2/lab2.ipynb#W6sdnNjb2RlLXJlbW90ZQ%3D%3D?line=0'>1</a>\u001b[0m \u001b[39mdef\u001b[39;00m \u001b[39mtournament\u001b[39m(population, tournament_size\u001b[39m=\u001b[39m\u001b[39m2\u001b[39m):\n\u001b[0;32m----> <a href='vscode-notebook-cell://wsl%2Bubuntu/home/dodo/Universita/5%20-%20Quinto%20anno/Computational%20intelligence/computational-intelligence/lab2/lab2.ipynb#W6sdnNjb2RlLXJlbW90ZQ%3D%3D?line=1'>2</a>\u001b[0m    \u001b[39mreturn\u001b[39;00m \u001b[39mmax\u001b[39m(random\u001b[39m.\u001b[39;49mchoices(population, k\u001b[39m=\u001b[39;49mtournament_size), key\u001b[39m=\u001b[39m\u001b[39mlambda\u001b[39;00m i: i\u001b[39m.\u001b[39mfitness)\n",
      "File \u001b[0;32m/usr/lib/python3.8/random.py:394\u001b[0m, in \u001b[0;36mRandom.choices\u001b[0;34m(self, population, weights, cum_weights, k)\u001b[0m\n\u001b[1;32m    387\u001b[0m \u001b[39m\"\"\"Return a k sized list of population elements chosen with replacement.\u001b[39;00m\n\u001b[1;32m    388\u001b[0m \n\u001b[1;32m    389\u001b[0m \u001b[39mIf the relative weights or cumulative weights are not specified,\u001b[39;00m\n\u001b[1;32m    390\u001b[0m \u001b[39mthe selections are made with equal probability.\u001b[39;00m\n\u001b[1;32m    391\u001b[0m \n\u001b[1;32m    392\u001b[0m \u001b[39m\"\"\"\u001b[39;00m\n\u001b[1;32m    393\u001b[0m random \u001b[39m=\u001b[39m \u001b[39mself\u001b[39m\u001b[39m.\u001b[39mrandom\n\u001b[0;32m--> 394\u001b[0m n \u001b[39m=\u001b[39m \u001b[39mlen\u001b[39;49m(population)\n\u001b[1;32m    395\u001b[0m \u001b[39mif\u001b[39;00m cum_weights \u001b[39mis\u001b[39;00m \u001b[39mNone\u001b[39;00m:\n\u001b[1;32m    396\u001b[0m     \u001b[39mif\u001b[39;00m weights \u001b[39mis\u001b[39;00m \u001b[39mNone\u001b[39;00m:\n",
      "\u001b[0;31mTypeError\u001b[0m: object of type 'NoneType' has no len()"
     ]
    }
   ],
   "source": [
    "logging.getLogger().setLevel(logging.INFO)\n",
    "\n",
    "pop_size = 100\n",
    "Individual = namedtuple('Individual', ('genome', 'fitness'))\n",
    "GEN = 100\n",
    "OFFSPRING_SIZE = 100\n",
    "\n",
    "for N in [\n",
    "   5,\n",
    "   10,\n",
    "   20,\n",
    "   100,\n",
    "   500,\n",
    "   1000\n",
    "]:\n",
    "   logging.info(f\"#### N = {N} ####\")\n",
    "   genetic(N, problem(N, 42), 2, pop_size)\n"
   ]
  }
 ],
 "metadata": {
  "kernelspec": {
   "display_name": "Python 3.8.10 64-bit",
   "language": "python",
   "name": "python3"
  },
  "language_info": {
   "codemirror_mode": {
    "name": "ipython",
    "version": 3
   },
   "file_extension": ".py",
   "mimetype": "text/x-python",
   "name": "python",
   "nbconvert_exporter": "python",
   "pygments_lexer": "ipython3",
   "version": "3.8.10"
  },
  "orig_nbformat": 4,
  "vscode": {
   "interpreter": {
    "hash": "e7370f93d1d0cde622a1f8e1c04877d8463912d04d973331ad4851f04de6915a"
   }
  }
 },
 "nbformat": 4,
 "nbformat_minor": 2
}
