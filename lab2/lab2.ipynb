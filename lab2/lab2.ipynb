{
 "cells": [
  {
   "cell_type": "code",
   "execution_count": 51,
   "metadata": {},
   "outputs": [],
   "source": [
    "import random\n",
    "import logging\n",
    "from collections import namedtuple, Counter\n",
    "from functools import reduce"
   ]
  },
  {
   "cell_type": "code",
   "execution_count": 52,
   "metadata": {},
   "outputs": [],
   "source": [
    "def problem(N, seed=None):\n",
    "    random.seed(seed)\n",
    "    return [\n",
    "        list(set(random.randint(0, N - 1)\n",
    "             for n in range(random.randint(N // 5, N // 2))))\n",
    "        for n in range(random.randint(N, N * 5))\n",
    "    ]"
   ]
  },
  {
   "cell_type": "code",
   "execution_count": 53,
   "metadata": {},
   "outputs": [],
   "source": [
    "def tournament(population, tournament_size=2):\n",
    "   return max(random.choices(population, k=tournament_size), key=lambda i: i.fitness)\n",
    "\n",
    "def evaluate(genome, P):\n",
    "    solution = list()\n",
    "    covering= set()\n",
    "    [solution.append(P[i]) for i, n in enumerate(genome) if n == 1]\n",
    "    covering = reduce(lambda a, b: set(a) | set(b), solution, covering)\n",
    "    return len(covering), -sum(len(_) for _ in solution)\n",
    "\n",
    "def covering(genome):\n",
    "   s = set()\n",
    "   for i in genome:\n",
    "      s = s.union(set(i))\n",
    "   return len(s)\n",
    "\n",
    "def mutation(g, len):\n",
    "   point = random.randint(0, len - 1)\n",
    "   return g[:point] + (1 - g[point],) + g[point + 1:]\n",
    "\n",
    "def cross_over(g1, g2, len):\n",
    "   cut = random.randint(0, len)\n",
    "   return g1[:cut] + g2[cut:]\n",
    "\n",
    "def create_population(prob_size, pop_size, P):\n",
    "   population = list()\n",
    "   for i in [tuple([0 for _ in range(prob_size)]) for _ in range(pop_size)]:\n",
    "      population.append(Individual(i, evaluate(i, P)))\n",
    "   return population"
   ]
  },
  {
   "cell_type": "code",
   "execution_count": 54,
   "metadata": {},
   "outputs": [],
   "source": [
    "def genetic(N, P, tournament_size, pop_size, mutation_rate):\n",
    "   prob_size = len(P)\n",
    "   population = create_population(prob_size, pop_size, P)\n",
    "   num_gen = 0\n",
    "\n",
    "   for g in range(GEN):\n",
    "      num_gen += 1\n",
    "      offspring = list()\n",
    "      for i in range(OFFSPRING_SIZE):\n",
    "         if random.random() < mutation_rate:\n",
    "            p = tournament(population, tournament_size=tournament_size)\n",
    "            o = mutation(p.genome, prob_size)\n",
    "         else:\n",
    "            p1 = tournament(population, tournament_size=tournament_size)\n",
    "            p2 = tournament(population, tournament_size=tournament_size)\n",
    "            o = cross_over(p1.genome, p2.genome, prob_size)\n",
    "      f = evaluate(o, P)\n",
    "      offspring.append(Individual(o, f))\n",
    "      population += offspring\n",
    "      population = sorted(population, key=lambda i: i.fitness, reverse=True)[:pop_size]\n",
    "\n",
    "      if population[0].fitness[0] == N:\n",
    "         return population, num_gen\n"
   ]
  },
  {
   "cell_type": "code",
   "execution_count": 55,
   "metadata": {},
   "outputs": [
    {
     "name": "stderr",
     "output_type": "stream",
     "text": [
      "INFO:root:#### N = 5 ####\n",
      "w=7, num_gen=141, bloat=40%\n",
      "\n",
      "INFO:root:#### N = 10 ####\n",
      "w=21, num_gen=194, bloat=110%\n",
      "\n",
      "INFO:root:#### N = 20 ####\n",
      "w=41, num_gen=165, bloat=105%\n",
      "\n",
      "INFO:root:#### N = 100 ####\n",
      "w=330, num_gen=336, bloat=230%\n",
      "\n",
      "INFO:root:#### N = 500 ####\n",
      "w=2028, num_gen=450, bloat=305%\n",
      "\n",
      "INFO:root:#### N = 1000 ####\n",
      "w=4839, num_gen=404, bloat=383%\n",
      "\n"
     ]
    }
   ],
   "source": [
    "logging.getLogger().setLevel(logging.INFO)\n",
    "\n",
    "Individual = namedtuple('Individual', ('genome', 'fitness'))\n",
    "POP_SIZE = 100\n",
    "GEN = 500\n",
    "OFFSPRING_SIZE = 100\n",
    "SEED = 42\n",
    "MUTATION_RATE = 0.5\n",
    "\n",
    "for N in [\n",
    "   5,\n",
    "   10,\n",
    "   20,\n",
    "   100,\n",
    "   500,\n",
    "   1000\n",
    "]:\n",
    "   population, num_gen = genetic(N, problem(N, SEED), 2, POP_SIZE, MUTATION_RATE)\n",
    "   w = -population[0].fitness[1]\n",
    "   logging.info(f\"#### N = {N} ####\\n\" + f\"w={w}, num_gen={num_gen}, bloat={int((w-N)*100/N)}%\\n\")\n",
    "\n"
   ]
  }
 ],
 "metadata": {
  "kernelspec": {
   "display_name": "Python 3.8.10 64-bit",
   "language": "python",
   "name": "python3"
  },
  "language_info": {
   "codemirror_mode": {
    "name": "ipython",
    "version": 3
   },
   "file_extension": ".py",
   "mimetype": "text/x-python",
   "name": "python",
   "nbconvert_exporter": "python",
   "pygments_lexer": "ipython3",
   "version": "3.8.10"
  },
  "orig_nbformat": 4,
  "vscode": {
   "interpreter": {
    "hash": "5b3ded1ccb95c1d9bd405e7b823d9e85424cde40fbb5985eb47e999ef50e15b4"
   }
  }
 },
 "nbformat": 4,
 "nbformat_minor": 2
}
