{
 "cells": [
  {
   "cell_type": "markdown",
   "metadata": {},
   "source": [
    "# Lab 3: Policy Search\n",
    "## Task\n",
    "Write agents able to play Nim, with an arbitrary number of rows and an upper bound  on the number of objects that can be removed in a turn (a.k.a., subtraction game).\n",
    "\n",
    "The player taking the last object wins.\n",
    "\n",
    "- Task3.1: An agent using fixed rules based on nim-sum (i.e., an expert system)\n",
    "\n",
    "- Task3.2: An agent using evolved rules"
   ]
  },
  {
   "cell_type": "code",
   "execution_count": 51,
   "metadata": {},
   "outputs": [],
   "source": [
    "import logging\n",
    "from collections import namedtuple\n",
    "import random\n",
    "from typing import Callable\n",
    "from copy import deepcopy\n",
    "from itertools import accumulate\n",
    "from operator import xor\n",
    "\n",
    "logging.getLogger().setLevel(logging.INFO)"
   ]
  },
  {
   "cell_type": "code",
   "execution_count": 52,
   "metadata": {},
   "outputs": [],
   "source": [
    "Nimply = namedtuple(\"Nimply\", \"row, num_objects\")"
   ]
  },
  {
   "cell_type": "code",
   "execution_count": 53,
   "metadata": {},
   "outputs": [],
   "source": [
    "class Nim:\n",
    "    # Initialize a board for NIM game with k rows \n",
    "    # (the rows have odds increasing numbers starting from 1)\n",
    "    def __init__(self, num_rows: int, k: int = None) -> None:\n",
    "        self._rows = [i * 2 + 1 for i in range(num_rows)]\n",
    "        self._k = k\n",
    "\n",
    "    def __bool__(self):\n",
    "        return sum(self._rows) > 0\n",
    "\n",
    "    def __str__(self):\n",
    "        return \"<\" + \" \".join(str(_) for _ in self._rows) + \">\"\n",
    "\n",
    "    @property\n",
    "    def rows(self) -> tuple:\n",
    "        return tuple(self._rows)\n",
    "\n",
    "    @property\n",
    "    def k(self) -> int:\n",
    "        return self._k\n",
    "\n",
    "    # Remove from a choosen row a selected number of objects\n",
    "    def nimming(self, ply: Nimply) -> None:\n",
    "        row, num_objects = ply\n",
    "        assert self._rows[row] >= num_objects\n",
    "        assert self._k is None or num_objects <= self._k\n",
    "        self._rows[row] -= num_objects"
   ]
  },
  {
   "cell_type": "code",
   "execution_count": 54,
   "metadata": {},
   "outputs": [],
   "source": [
    "def nim_sum(state: Nim) -> int:\n",
    "    *_, result = accumulate(state.rows, xor)\n",
    "    return result\n",
    "\n",
    "def cook_status(state: Nim) -> dict:\n",
    "    cooked = dict()\n",
    "    cooked[\"possible_moves\"] = [\n",
    "        (r, o) for r, c in enumerate(state.rows) for o in range(1, c + 1) if state.k is None or o <= state.k\n",
    "    ]\n",
    "    cooked[\"active_rows_number\"] = sum(o > 0 for o in state.rows)\n",
    "    cooked[\"shortest_row\"] = min((x for x in enumerate(state.rows) if x[1] > 0), key=lambda y: y[1])[0]\n",
    "    cooked[\"longest_row\"] = max((x for x in enumerate(state.rows)), key=lambda y: y[1])[0]\n",
    "    cooked[\"nim_sum\"] = nim_sum(state)\n",
    "    cooked[\"active_obj_number\"] = sum(c for r, c in enumerate(state.rows))\n",
    "\n",
    "    brute_force = list()\n",
    "    for m in cooked[\"possible_moves\"]:\n",
    "        tmp = deepcopy(state)\n",
    "        tmp.nimming(m)\n",
    "        brute_force.append((m, nim_sum(tmp)))\n",
    "    cooked[\"brute_force\"] = brute_force\n",
    "\n",
    "    return cooked"
   ]
  },
  {
   "cell_type": "markdown",
   "metadata": {},
   "source": [
    "## Strategies"
   ]
  },
  {
   "cell_type": "code",
   "execution_count": 55,
   "metadata": {},
   "outputs": [],
   "source": [
    "def pure_random(state: Nim) -> Nimply:\n",
    "    # enumerate(state.rows) --> return the number of the row (r) and the number of objects in that row (c)\n",
    "    row = random.choice([r for r, c in enumerate(state.rows) if c > 0])\n",
    "    num_objects = random.randint(1, state.rows[row])\n",
    "    return Nimply(row, num_objects)"
   ]
  },
  {
   "cell_type": "code",
   "execution_count": 56,
   "metadata": {},
   "outputs": [],
   "source": [
    "def dumb_strategy(state: Nim) -> Nimply:\n",
    "    data = cook_status(state)\n",
    "    row = data[\"longest_row\"]\n",
    "    num_objects = 1\n",
    "    return Nimply(row, num_objects)"
   ]
  },
  {
   "cell_type": "code",
   "execution_count": 57,
   "metadata": {},
   "outputs": [],
   "source": [
    "def good_strategy(state: Nim) -> Nimply:\n",
    "    data = cook_status(state)\n",
    "    row = data[\"longest_row\"]\n",
    "    num_objects = state.rows[data[\"longest_row\"]]\n",
    "    return Nimply(row, num_objects)"
   ]
  },
  {
   "cell_type": "code",
   "execution_count": 58,
   "metadata": {},
   "outputs": [],
   "source": [
    "def optimal_startegy(state: Nim) -> Nimply:\n",
    "    data = cook_status(state)\n",
    "    return next((bf for bf in data[\"brute_force\"] if bf[1] == 0), random.choice(data[\"brute_force\"]))[0]"
   ]
  },
  {
   "cell_type": "code",
   "execution_count": 59,
   "metadata": {},
   "outputs": [],
   "source": [
    "def make_strategy1(genome: dict) -> Callable:\n",
    "    def evolvable(state: Nim) -> Nimply:\n",
    "        data = cook_status(state)\n",
    "\n",
    "        if random.random() > genome[\"p\"]:\n",
    "            ply = Nimply(data[\"shortest_row\"], 1)\n",
    "        else: \n",
    "            ply = Nimply(data[\"longest_row\"], 1)\n",
    "\n",
    "        return ply\n",
    "    return evolvable"
   ]
  },
  {
   "cell_type": "code",
   "execution_count": 60,
   "metadata": {},
   "outputs": [],
   "source": [
    "def make_strategy2(genome: dict) -> Callable:\n",
    "    def evolvable(state: Nim) -> Nimply:\n",
    "        data = cook_status(state)\n",
    "\n",
    "        if data[\"active_rows_number\"] % 2 == 0 and random.random() > genome[\"p\"]:\n",
    "            ply = Nimply(data[\"longest_row\"], 1)\n",
    "        else: \n",
    "            ply = Nimply(data[\"longest_row\"], state.rows[data[\"longest_row\"]])\n",
    "\n",
    "        return ply\n",
    "    return evolvable"
   ]
  },
  {
   "cell_type": "code",
   "execution_count": 61,
   "metadata": {},
   "outputs": [],
   "source": [
    "def make_strategy3(genome: dict) -> Callable:\n",
    "    def evolvable(state: Nim) -> Nimply:\n",
    "        data = cook_status(state)\n",
    "\n",
    "        if data[\"active_rows_number\"] > 5 and random.random() > genome[\"p\"]:\n",
    "            ply = Nimply(data[\"longest_row\"], state.rows[data[\"longest_row\"]])\n",
    "        else: \n",
    "            ply = Nimply(data[\"longest_row\"], 1)\n",
    "\n",
    "        return ply\n",
    "    return evolvable"
   ]
  },
  {
   "cell_type": "code",
   "execution_count": 62,
   "metadata": {},
   "outputs": [],
   "source": [
    "def make_strategy4(genome: dict) -> Callable:\n",
    "    def evolvable(state: Nim) -> Nimply:\n",
    "        data = cook_status(state)\n",
    "\n",
    "        if data[\"active_obj_number\"] %2 == 0 and random.random() > genome[\"p\"]:\n",
    "            if state.rows[data[\"longest_row\"]] > 1:\n",
    "                ply = Nimply(data[\"longest_row\"], 2)\n",
    "            else:\n",
    "                ply = Nimply(data[\"longest_row\"], 1)\n",
    "        else:\n",
    "            ply = Nimply(data[\"longest_row\"], 1)\n",
    "\n",
    "        return ply\n",
    "    return evolvable"
   ]
  },
  {
   "cell_type": "code",
   "execution_count": 63,
   "metadata": {},
   "outputs": [],
   "source": [
    "def make_strategy5(genome: dict) -> Callable:\n",
    "    def evolvable(state: Nim) -> Nimply:\n",
    "        data = cook_status(state)\n",
    "\n",
    "        if data[\"active_rows_number\"] == 1 and random.random() > genome[\"p\"]:\n",
    "            ply = Nimply(data[\"longest_row\"], state.rows[data[\"longest_row\"]])\n",
    "        else:\n",
    "            ply = Nimply(data[\"longest_row\"], state.rows[data[\"longest_row\"]]-1)\n",
    "\n",
    "        return ply\n",
    "    return evolvable"
   ]
  },
  {
   "cell_type": "markdown",
   "metadata": {},
   "source": [
    "## Evaluation"
   ]
  },
  {
   "cell_type": "code",
   "execution_count": 64,
   "metadata": {},
   "outputs": [],
   "source": [
    "NUM_MATCHES = 20\n",
    "NIM_SIZE = 10\n",
    "\n",
    "def evaluate(strategy: Callable, opponent: Callable) -> float:    \n",
    "    players = (strategy, opponent)\n",
    "    won = 0\n",
    "\n",
    "    for m in range(NUM_MATCHES):\n",
    "        nim = Nim(NIM_SIZE)\n",
    "        player = random.choice([0,1])\n",
    "        while nim:\n",
    "            ply = players[player](nim)\n",
    "            nim.nimming(ply)\n",
    "            player = 1 - player\n",
    "        if player == 1:\n",
    "            won += 1\n",
    "    return won / NUM_MATCHES"
   ]
  },
  {
   "cell_type": "markdown",
   "metadata": {},
   "source": [
    "## Evolution"
   ]
  },
  {
   "cell_type": "code",
   "execution_count": 71,
   "metadata": {},
   "outputs": [],
   "source": [
    "Individual = namedtuple(\"Individual\", [\"strategy\", \"genome\", \"fitness\"])"
   ]
  },
  {
   "cell_type": "code",
   "execution_count": 72,
   "metadata": {},
   "outputs": [],
   "source": [
    "def calculate_fitness(strategy):\n",
    "    # Evaluate out strategy \n",
    "\n",
    "    e1 = evaluate(strategy, pure_random)\n",
    "    e2 = evaluate(strategy, dumb_strategy)\n",
    "    e3 = evaluate(strategy, good_strategy)\n",
    "    e4 = evaluate(strategy, optimal_startegy)\n",
    "    \n",
    "    return (e1 + e2 + e3 + e4) / 4"
   ]
  },
  {
   "cell_type": "code",
   "execution_count": 73,
   "metadata": {},
   "outputs": [],
   "source": [
    "def tournament(population, tournament_size=2):\n",
    "    # Take randomly 2 individuals from the  population and take the one with the higher fitness\n",
    "    return max(random.choices(population, k=tournament_size), key=lambda i: i.fitness)"
   ]
  },
  {
   "cell_type": "code",
   "execution_count": 74,
   "metadata": {},
   "outputs": [],
   "source": [
    "def mutation(strategy, genome, m1):\n",
    "    # We randomly modify our strategy by modifing its probability\n",
    "    new_genome = genome\n",
    "\n",
    "    if random.random() > m1:\n",
    "        if genome[\"p\"] > 0:\n",
    "            new_genome[\"p\"] = genome[\"p\"] - 0.05\n",
    "        else:\n",
    "            new_genome[\"p\"] = genome[\"p\"]\n",
    "    else:\n",
    "        new_genome[\"p\"] = genome[\"p\"] + 0.05\n",
    "    \n",
    "\n",
    "    if strategy == \"strategy1\":\n",
    "        strat = make_strategy1(new_genome)\n",
    "    elif strategy == \"strategy2\":\n",
    "        strat = make_strategy2(new_genome)\n",
    "    elif strategy == \"strategy3\":\n",
    "        strat = make_strategy3(new_genome)\n",
    "    elif strategy == \"strategy4\":\n",
    "        strat = make_strategy4(new_genome)\n",
    "    elif strategy == \"strategy5\":\n",
    "        strat = make_strategy5(new_genome)\n",
    "\n",
    "\n",
    "    return strat, new_genome"
   ]
  },
  {
   "cell_type": "markdown",
   "metadata": {},
   "source": [
    "## Evolved Strategy"
   ]
  },
  {
   "cell_type": "code",
   "execution_count": 79,
   "metadata": {},
   "outputs": [],
   "source": [
    "NUM_GENERATIONS = 15\n",
    "OFFSPRING_SIZE = 7\n",
    "\n",
    "m1 = 0.5\n",
    "\n",
    "def evolution(population):\n",
    "\n",
    "    fitness_log = [(0, i.fitness) for i in population]\n",
    "\n",
    "    for g in range(NUM_GENERATIONS):\n",
    "        offspring = list()\n",
    "        for i in range(OFFSPRING_SIZE):\n",
    "\n",
    "            p = tournament(population)\n",
    "\n",
    "            new_strat, new_g = mutation(p.strategy, p.genome, m1)\n",
    "\n",
    "            f = calculate_fitness(new_strat)\n",
    "\n",
    "            fitness_log.append((g + 1, f))\n",
    "\n",
    "            offspring.append(Individual(p.strategy, new_g, f))\n",
    "\n",
    "        population += offspring\n",
    "\n",
    "        population = sorted(population, key=lambda i: i.fitness, reverse=True)\n",
    "\n",
    "    return population"
   ]
  },
  {
   "cell_type": "markdown",
   "metadata": {},
   "source": [
    "## Generate Population"
   ]
  },
  {
   "cell_type": "code",
   "execution_count": 87,
   "metadata": {},
   "outputs": [],
   "source": [
    "population = list()\n",
    "\n",
    "genome = {\"p\": 0.5}\n",
    "\n",
    "for i in range(3):\n",
    "    #genome = {\"p\": random.random()}\n",
    "    strategy = make_strategy1(genome)\n",
    "    population.append(Individual( \"strategy1\", genome, calculate_fitness(strategy) ))\n",
    "\n",
    "for i in range(3):\n",
    "    #genome = {\"p\": random.random()}\n",
    "    strategy = make_strategy2(genome)\n",
    "    population.append(Individual( \"strategy2\", genome, calculate_fitness(strategy) ))\n",
    "\n",
    "for i in range(3):\n",
    "    #genome = {\"p\": random.random()}\n",
    "    strategy = make_strategy3(genome)\n",
    "    population.append(Individual( \"strategy3\", genome, calculate_fitness(strategy) ))\n",
    "\n",
    "for i in range(3):\n",
    "    #genome = {\"p\": random.random()}\n",
    "    strategy = make_strategy4(genome)\n",
    "    population.append(Individual( \"strategy4\", genome, calculate_fitness(strategy) ))\n",
    "\n",
    "for i in range(3):\n",
    "    #genome = {\"p\": random.random()}\n",
    "    strategy = make_strategy5(genome)\n",
    "    population.append(Individual( \"strategy5\", genome, calculate_fitness(strategy) ))\n"
   ]
  },
  {
   "cell_type": "markdown",
   "metadata": {},
   "source": [
    "## Start EVOLVING Algorithm"
   ]
  },
  {
   "cell_type": "code",
   "execution_count": 88,
   "metadata": {},
   "outputs": [
    {
     "name": "stdout",
     "output_type": "stream",
     "text": [
      "Individual(strategy='strategy5', genome={'p': 0.30000000000000004}, fitness=1.0)\n"
     ]
    }
   ],
   "source": [
    "final_pop = evolution(population=population)\n",
    "\n",
    "print(final_pop[0])"
   ]
  },
  {
   "cell_type": "markdown",
   "metadata": {},
   "source": [
    "## Oversimplified match"
   ]
  },
  {
   "cell_type": "code",
   "execution_count": 85,
   "metadata": {},
   "outputs": [
    {
     "name": "stderr",
     "output_type": "stream",
     "text": [
      "DEBUG:root:status: Initial board  -> <1 3 5 7 9 11 13 15 17 19 21>\n",
      "DEBUG:root:status: After player 0 -> <1 3 5 7 9 11 13 15 6 19 21>\n",
      "DEBUG:root:status: After player 1 -> <1 3 5 7 9 11 13 15 6 19 1>\n",
      "DEBUG:root:status: After player 0 -> <1 3 5 7 9 11 13 15 6 7 1>\n",
      "DEBUG:root:status: After player 1 -> <1 3 5 7 9 11 13 1 6 7 1>\n",
      "DEBUG:root:status: After player 0 -> <1 3 5 7 7 11 13 1 6 7 1>\n",
      "DEBUG:root:status: After player 1 -> <1 3 5 7 7 11 1 1 6 7 1>\n",
      "DEBUG:root:status: After player 0 -> <1 3 5 7 7 7 1 1 6 7 1>\n",
      "DEBUG:root:status: After player 1 -> <1 3 5 1 7 7 1 1 6 7 1>\n",
      "DEBUG:root:status: After player 0 -> <1 3 3 1 7 7 1 1 6 7 1>\n",
      "DEBUG:root:status: After player 1 -> <1 3 3 1 1 7 1 1 6 7 1>\n",
      "DEBUG:root:status: After player 0 -> <1 3 3 1 1 1 1 1 6 7 1>\n",
      "DEBUG:root:status: After player 1 -> <1 3 3 1 1 1 1 1 6 1 1>\n",
      "DEBUG:root:status: After player 0 -> <1 3 3 1 1 1 1 1 0 1 1>\n",
      "DEBUG:root:status: After player 1 -> <1 1 3 1 1 1 1 1 0 1 1>\n",
      "DEBUG:root:status: After player 0 -> <1 1 1 1 1 1 1 1 0 1 1>\n",
      "DEBUG:root:status: After player 1 -> <1 1 1 1 1 1 1 1 0 1 1>\n",
      "DEBUG:root:status: After player 0 -> <1 1 1 1 0 1 1 1 0 1 1>\n",
      "DEBUG:root:status: After player 1 -> <1 1 1 1 0 1 1 1 0 1 1>\n",
      "DEBUG:root:status: After player 0 -> <0 1 1 1 0 1 1 1 0 1 1>\n",
      "DEBUG:root:status: After player 1 -> <0 1 1 1 0 1 1 1 0 1 1>\n",
      "DEBUG:root:status: After player 0 -> <0 1 1 1 0 0 1 1 0 1 1>\n",
      "DEBUG:root:status: After player 1 -> <0 1 1 1 0 0 1 1 0 1 1>\n",
      "DEBUG:root:status: After player 0 -> <0 0 1 1 0 0 1 1 0 1 1>\n",
      "DEBUG:root:status: After player 1 -> <0 0 1 1 0 0 1 1 0 1 1>\n",
      "DEBUG:root:status: After player 0 -> <0 0 1 1 0 0 1 1 0 0 1>\n",
      "DEBUG:root:status: After player 1 -> <0 0 1 1 0 0 1 1 0 0 1>\n",
      "DEBUG:root:status: After player 0 -> <0 0 0 1 0 0 1 1 0 0 1>\n",
      "DEBUG:root:status: After player 1 -> <0 0 0 1 0 0 1 1 0 0 1>\n",
      "DEBUG:root:status: After player 0 -> <0 0 0 1 0 0 1 1 0 0 0>\n",
      "DEBUG:root:status: After player 1 -> <0 0 0 1 0 0 1 1 0 0 0>\n",
      "DEBUG:root:status: After player 0 -> <0 0 0 0 0 0 1 1 0 0 0>\n",
      "DEBUG:root:status: After player 1 -> <0 0 0 0 0 0 1 1 0 0 0>\n",
      "DEBUG:root:status: After player 0 -> <0 0 0 0 0 0 0 1 0 0 0>\n",
      "DEBUG:root:status: After player 1 -> <0 0 0 0 0 0 0 0 0 0 0>\n",
      "INFO:root:status: Player 1 won!\n"
     ]
    }
   ],
   "source": [
    "logging.getLogger().setLevel(logging.DEBUG)\n",
    "\n",
    "strategy = (optimal_startegy, make_strategy5({\"p\": 0.247}))\n",
    "\n",
    "nim = Nim(11)\n",
    "logging.debug(f\"status: Initial board  -> {nim}\")\n",
    "player = 0\n",
    "while nim:\n",
    "    ply = strategy[player](nim)\n",
    "    nim.nimming(ply)\n",
    "    logging.debug(f\"status: After player {player} -> {nim}\")\n",
    "    player = 1 - player\n",
    "winner = 1 - player\n",
    "logging.info(f\"status: Player {winner} won!\")"
   ]
  }
 ],
 "metadata": {
  "kernelspec": {
   "display_name": "Python 3.10.7 64-bit",
   "language": "python",
   "name": "python3"
  },
  "language_info": {
   "codemirror_mode": {
    "name": "ipython",
    "version": 3
   },
   "file_extension": ".py",
   "mimetype": "text/x-python",
   "name": "python",
   "nbconvert_exporter": "python",
   "pygments_lexer": "ipython3",
   "version": "3.10.7"
  },
  "orig_nbformat": 4,
  "vscode": {
   "interpreter": {
    "hash": "aee8b7b246df8f9039afb4144a1f6fd8d2ca17a180786b69acc140d282b71a49"
   }
  }
 },
 "nbformat": 4,
 "nbformat_minor": 2
}
